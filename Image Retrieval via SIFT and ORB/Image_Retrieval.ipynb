{
 "cells": [
  {
   "cell_type": "code",
   "execution_count": 1,
   "metadata": {},
   "outputs": [],
   "source": [
    "import numpy as np\n",
    "import cv2\n",
    "import matplotlib.pyplot as plt\n",
    "import os\n",
    "import imutils"
   ]
  },
  {
   "cell_type": "code",
   "execution_count": 2,
   "metadata": {},
   "outputs": [],
   "source": [
    "import warnings\n",
    "warnings.filterwarnings(\"ignore\")"
   ]
  },
  {
   "cell_type": "markdown",
   "metadata": {},
   "source": [
    "### Reading Images"
   ]
  },
  {
   "cell_type": "code",
   "execution_count": 3,
   "metadata": {},
   "outputs": [],
   "source": [
    "list_scenes = os.listdir('Images')\n",
    "\n",
    "img_list = []\n",
    "count_image = 0\n",
    "count_scene = 0\n",
    "dict_image = {}\n",
    "\n",
    "for i in list_scenes:    \n",
    "    try:\n",
    "        list_images = os.listdir('Images/%s'%(i))\n",
    "        count_scene += 1\n",
    "        \n",
    "        for j in list_images:\n",
    "            if j != '.DS_Store':                \n",
    "                img = cv2.imread('Images/%s/%s'%(i,j), cv2.IMREAD_GRAYSCALE)\n",
    "                img_list.append(img)\n",
    "                \n",
    "                dict_image[count_image] = count_scene\n",
    "                count_image += 1\n",
    "    except:\n",
    "        pass"
   ]
  },
  {
   "cell_type": "markdown",
   "metadata": {},
   "source": [
    "### Resizing Images"
   ]
  },
  {
   "cell_type": "code",
   "execution_count": 4,
   "metadata": {},
   "outputs": [],
   "source": [
    "def resize_img(img):\n",
    "    return imutils.resize(img, width=1024)"
   ]
  },
  {
   "cell_type": "code",
   "execution_count": 5,
   "metadata": {},
   "outputs": [],
   "source": [
    "img_list = [resize_img(img) for img in img_list]"
   ]
  },
  {
   "cell_type": "markdown",
   "metadata": {},
   "source": [
    "### Get SIFT and ORB features "
   ]
  },
  {
   "cell_type": "code",
   "execution_count": 6,
   "metadata": {},
   "outputs": [],
   "source": [
    "orb = cv2.ORB_create(nfeatures = 200)\n",
    "sift = cv2.xfeatures2d.SIFT_create(nfeatures = 200)"
   ]
  },
  {
   "cell_type": "code",
   "execution_count": 7,
   "metadata": {},
   "outputs": [],
   "source": [
    "def get_sift(img):\n",
    "    keypoints_sift, descriptors_sift = sift.detectAndCompute(img, None)\n",
    "    return descriptors_sift\n",
    "\n",
    "def get_orb(img):\n",
    "    keypoints_orb, descriptors_orb = orb.detectAndCompute(img, None)\n",
    "    return descriptors_orb"
   ]
  },
  {
   "cell_type": "code",
   "execution_count": 8,
   "metadata": {},
   "outputs": [],
   "source": [
    "img_desc_list_sift = [get_sift(img) for img in img_list]\n",
    "img_desc_list_orb = [get_orb(img) for img in img_list]"
   ]
  },
  {
   "cell_type": "markdown",
   "metadata": {},
   "source": [
    "### Get distance between two images using k features"
   ]
  },
  {
   "cell_type": "code",
   "execution_count": 9,
   "metadata": {},
   "outputs": [],
   "source": [
    "from scipy import spatial\n",
    "\n",
    "def distance(k, descriptors1, descriptors2):\n",
    "    tree = spatial.KDTree(descriptors2)\n",
    "    \n",
    "    nearest_distances = []\n",
    "    for i in descriptors1:\n",
    "        nearest_distances.append(tree.query(i)[0])\n",
    "    \n",
    "    nearest_distances.sort()\n",
    "    \n",
    "    return sum(nearest_distances[:k])   \n",
    "\n",
    "def get_img_distances(k, img_list, img_desc_list):\n",
    "    img_dist = np.zeros((len(img_list),len(img_list)))\n",
    "\n",
    "    for i, w in enumerate(img_desc_list):\n",
    "        for j, u in enumerate(img_desc_list):\n",
    "            if j > i:\n",
    "                img_dist[i][j] = distance(k, w, u)\n",
    "\n",
    "    for i, w in enumerate(img_dist):\n",
    "        for j, u in enumerate(img_dist):\n",
    "            if i > j:\n",
    "                img_dist[i][j] = img_dist[j][i]\n",
    "                \n",
    "    return img_dist"
   ]
  },
  {
   "cell_type": "code",
   "execution_count": 10,
   "metadata": {
    "scrolled": true
   },
   "outputs": [],
   "source": [
    "img_dist_orb = get_img_distances(10, img_list, img_desc_list_orb)\n",
    "img_dist_sift = get_img_distances(10, img_list, img_desc_list_sift)"
   ]
  },
  {
   "cell_type": "markdown",
   "metadata": {},
   "source": [
    "### Accuracy "
   ]
  },
  {
   "cell_type": "code",
   "execution_count": 11,
   "metadata": {},
   "outputs": [],
   "source": [
    "def mean_accuracy(img_dist, dict_image):\n",
    "    accuracy = []\n",
    "    for i,w in enumerate(img_dist):\n",
    "        idx = np.argpartition(w, 6)\n",
    "        idx = [j for j in idx[:6] if j != i]\n",
    "\n",
    "        ground_label = dict_image[i]\n",
    "        count = 0\n",
    "\n",
    "        for j in idx:\n",
    "            if dict_image[j] == ground_label:\n",
    "                count += 1\n",
    "        accuracy.append(count)\n",
    "        \n",
    "    return sum(accuracy)/float(len(accuracy))"
   ]
  },
  {
   "cell_type": "code",
   "execution_count": 12,
   "metadata": {},
   "outputs": [],
   "source": [
    "mean_orb = mean_accuracy(img_dist_orb, dict_image)\n",
    "mean_sift = mean_accuracy(img_dist_sift, dict_image)"
   ]
  },
  {
   "cell_type": "code",
   "execution_count": 13,
   "metadata": {},
   "outputs": [
    {
     "name": "stdout",
     "output_type": "stream",
     "text": [
      "For K=10 --> \n",
      "Mean Accuracy with ORB = 3.89 \n",
      "Mean Accuracy with SIFT = 4.44\n"
     ]
    }
   ],
   "source": [
    "print('For K=10 -->','\\nMean Accuracy with ORB =','%.2f'%(mean_orb),'\\nMean Accuracy with SIFT =', '%.2f'%(mean_sift))"
   ]
  },
  {
   "cell_type": "markdown",
   "metadata": {},
   "source": [
    "### Main Function"
   ]
  },
  {
   "cell_type": "code",
   "execution_count": 14,
   "metadata": {},
   "outputs": [],
   "source": [
    "def run(which_features, k, img_list, dict_image):\n",
    "    \n",
    "    if which_features == 'sift':\n",
    "        img_desc_list = [get_sift(img) for img in img_list]\n",
    "    else:\n",
    "        img_desc_list = [get_orb(img) for img in img_list]\n",
    "        \n",
    "    img_dist = get_img_distances(k, img_list, img_desc_list)\n",
    "    mean = mean_accuracy(img_dist, dict_image)\n",
    "    \n",
    "    return mean*100/5.0"
   ]
  },
  {
   "cell_type": "markdown",
   "metadata": {},
   "source": [
    "### Graph for K = [1,5,10,20,40,60,80] and max matches = 200"
   ]
  },
  {
   "cell_type": "code",
   "execution_count": 15,
   "metadata": {},
   "outputs": [
    {
     "name": "stdout",
     "output_type": "stream",
     "text": [
      "Time Statistics for ORB\n",
      "CPU times: user 53.8 s, sys: 188 ms, total: 54 s\n",
      "Wall time: 53.5 s\n",
      "\n",
      "\n",
      "Time Statistics for SIFT\n",
      "\n",
      "CPU times: user 11min 46s, sys: 16.9 s, total: 12min 3s\n",
      "Wall time: 12min 21s\n"
     ]
    }
   ],
   "source": [
    "K = [1,5,10,20,40,60,80,200] \n",
    "print('Time Statistics for ORB')\n",
    "%time accuracy_orb = [run('orb', k, img_list, dict_image) for k in K]   #ORB\n",
    "print('\\n\\nTime Statistics for SIFT')\n",
    "%time accuracy_sift = [run('sift', k, img_list, dict_image) for k in K] #SIFT"
   ]
  },
  {
   "cell_type": "code",
   "execution_count": 16,
   "metadata": {},
   "outputs": [
    {
     "data": {
      "image/png": "[encoded data removed]",
      "text/plain": [
       "<Figure size 432x288 with 1 Axes>"
      ]
     },
     "metadata": {},
     "output_type": "display_data"
    }
   ],
   "source": [
    "plt.plot(K, accuracy_orb, 'r', label='ORB')\n",
    "plt.plot(K, accuracy_sift, 'b', label='SIFT')\n",
    "plt.xlabel('Values of K')\n",
    "plt.ylabel('Mean Accuracy')\n",
    "\n",
    "plt.legend()\n",
    "plt.title('K vs Mean Accuracy by ORB and SIFT features')\n",
    "plt.show()"
   ]
  },
  {
   "cell_type": "markdown",
   "metadata": {},
   "source": [
    "### SIFT is performing better than ORB in terms of accuracy \n",
    "- Might be because SIFT has 128 dimensional feature while ORB has only 32 dimensional feature\n",
    "\n",
    "### ORB is performing better than SIFT in terms of time "
   ]
  }
 ],
 "metadata": {
  "kernelspec": {
   "display_name": "Python 3",
   "language": "python",
   "name": "python3"
  },
  "language_info": {
   "codemirror_mode": {
    "name": "ipython",
    "version": 3
   },
   "file_extension": ".py",
   "mimetype": "text/x-python",
   "name": "python",
   "nbconvert_exporter": "python",
   "pygments_lexer": "ipython3",
   "version": "3.6.5"
  }
 },
 "nbformat": 4,
 "nbformat_minor": 2
}
